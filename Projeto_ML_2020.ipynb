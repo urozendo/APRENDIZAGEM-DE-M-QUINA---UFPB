{
  "nbformat": 4,
  "nbformat_minor": 0,
  "metadata": {
    "colab": {
      "name": "Projeto ML - 2020.ipynb",
      "provenance": [],
      "collapsed_sections": [],
      "toc_visible": true,
      "include_colab_link": true
    },
    "kernelspec": {
      "name": "python3",
      "display_name": "Python 3"
    }
  },
  "cells": [
    {
      "cell_type": "markdown",
      "metadata": {
        "id": "view-in-github",
        "colab_type": "text"
      },
      "source": [
        "<a href=\"https://colab.research.google.com/github/urozendo/APRENDIZAGEM-DE-M-QUINA---UFPB/blob/main/Projeto_ML_2020.ipynb\" target=\"_parent\"><img src=\"https://colab.research.google.com/assets/colab-badge.svg\" alt=\"Open In Colab\"/></a>"
      ]
    },
    {
      "cell_type": "markdown",
      "metadata": {
        "id": "8X2h3NdoKCEU"
      },
      "source": [
        "<div >\n",
        "<center>\n",
        "<img src=\"https://images.educamaisbrasil.com.br/content/superior/instituicao/logo/g/ufpb.png\" width=\"140\"/>\n",
        "<img src=\"https://www.ufpb.br/de/contents/imagens/logode.png\" width=\"100\"/>\n",
        "</center>\n",
        "</div>\n",
        "\n",
        "<h1 align=\"center\">PROJETO APRENDIZAGEM DE MÁQUINA 2020</h1> \n",
        "\n",
        "\n",
        "\n",
        "\n",
        "---\n",
        "**Professor**: \n",
        "TELMO DE MENEZES E SILVA FILHO\n",
        "\n",
        "**Equipe**:\n",
        "1. HOZANA FRANCIELLE DO NASCIMENTO BORGES (2016038540)\n",
        "2. KLEBER HENRIQUE DOS SANTOS (2016096042)\n",
        "3. ULLYSSES DA NOBREGA ROSENDO (2016090129)\n",
        "\n",
        "\n",
        "---\n"
      ]
    },
    {
      "cell_type": "markdown",
      "metadata": {
        "id": "Wl-UFSVkcc5G"
      },
      "source": [
        "# Seção 1\n",
        "\n",
        "\n",
        "\n",
        "\n"
      ]
    },
    {
      "cell_type": "markdown",
      "metadata": {
        "id": "Vv7QcpgOFyBV"
      },
      "source": [
        "### Conjunto de dados e Motivação do Projeto \n",
        "\n",
        "O conjunto de dados é referente a tipos de vinho, estão incluídos no conjunto de dados dois tipos de vinho do norte de Portugal e valores físico-químicos dos vinhos, vinho tinto e vinho branco. O conjunto de dados foi obtido do repositório [UCI Machine Learning Repository](https://archive.ics.uci.edu/ml/datasets/Wine+Quality). \n",
        "\n",
        "\n",
        "**Motivação**: O objetivo é classificar o tipo do vinho utilizando modelos de apredizagem de máquina com base em atributos físico-químicos dos vinhos. \n",
        "\n",
        "Temos como variável dependente(ou resposta):\n",
        "* type (tipo do vinho, tinto ou branco)\n",
        "\n",
        "\n",
        "Temos os seguintes atributos físico-químicos:\n",
        "\n",
        "* fixed acidity (acidez fixa)\n",
        "* volatile acidity (acidez volátil)\n",
        "* citric acid (ácido cítrico)\n",
        "* açúcar residual (residual sugar)\n",
        "* chlorides (cloretos)\n",
        "* free sulfur dioxide (dióxido de enxofre livre)\n",
        "* total sulfur dioxide (dióxido de enxofre total)\n",
        "* density (densidade)\n",
        "* pH\n",
        "* sulphates (sulfatos)\n",
        "* alcohol (álcool)"
      ]
    },
    {
      "cell_type": "code",
      "metadata": {
        "colab": {
          "base_uri": "https://localhost:8080/",
          "height": 423
        },
        "id": "guhO1MWvdGNf",
        "outputId": "78cd698d-ecf4-4007-9a71-82ca094eca0d"
      },
      "source": [
        "import pandas as pd\n",
        "import numpy as np\n",
        "import matplotlib.pyplot as plt\n",
        "import seaborn as sns\n",
        "\n",
        "wine_red = 'https://archive.ics.uci.edu/ml/machine-learning-databases/wine-quality/winequality-red.csv'\n",
        "wine_white = 'https://archive.ics.uci.edu/ml/machine-learning-databases/wine-quality/winequality-white.csv'\n",
        "\n",
        "df_red = pd.read_csv(wine_red, sep = ';')\n",
        "df_red['type'] = np.repeat(0, df_red.shape[0])\n",
        "del df_red['quality']\n",
        "\n",
        "df_white = pd.read_csv(wine_white, sep = ';')\n",
        "df_white['type'] = np.repeat(1, df_white.shape[0])\n",
        "del df_white['quality']\n",
        "\n",
        "df_winequality = pd.concat([df_red, df_white])\n",
        "df_winequality"
      ],
      "execution_count": null,
      "outputs": [
        {
          "output_type": "execute_result",
          "data": {
            "text/html": [
              "<div>\n",
              "<style scoped>\n",
              "    .dataframe tbody tr th:only-of-type {\n",
              "        vertical-align: middle;\n",
              "    }\n",
              "\n",
              "    .dataframe tbody tr th {\n",
              "        vertical-align: top;\n",
              "    }\n",
              "\n",
              "    .dataframe thead th {\n",
              "        text-align: right;\n",
              "    }\n",
              "</style>\n",
              "<table border=\"1\" class=\"dataframe\">\n",
              "  <thead>\n",
              "    <tr style=\"text-align: right;\">\n",
              "      <th></th>\n",
              "      <th>fixed acidity</th>\n",
              "      <th>volatile acidity</th>\n",
              "      <th>citric acid</th>\n",
              "      <th>residual sugar</th>\n",
              "      <th>chlorides</th>\n",
              "      <th>free sulfur dioxide</th>\n",
              "      <th>total sulfur dioxide</th>\n",
              "      <th>density</th>\n",
              "      <th>pH</th>\n",
              "      <th>sulphates</th>\n",
              "      <th>alcohol</th>\n",
              "      <th>type</th>\n",
              "    </tr>\n",
              "  </thead>\n",
              "  <tbody>\n",
              "    <tr>\n",
              "      <th>0</th>\n",
              "      <td>7.4</td>\n",
              "      <td>0.70</td>\n",
              "      <td>0.00</td>\n",
              "      <td>1.9</td>\n",
              "      <td>0.076</td>\n",
              "      <td>11.0</td>\n",
              "      <td>34.0</td>\n",
              "      <td>0.99780</td>\n",
              "      <td>3.51</td>\n",
              "      <td>0.56</td>\n",
              "      <td>9.4</td>\n",
              "      <td>0</td>\n",
              "    </tr>\n",
              "    <tr>\n",
              "      <th>1</th>\n",
              "      <td>7.8</td>\n",
              "      <td>0.88</td>\n",
              "      <td>0.00</td>\n",
              "      <td>2.6</td>\n",
              "      <td>0.098</td>\n",
              "      <td>25.0</td>\n",
              "      <td>67.0</td>\n",
              "      <td>0.99680</td>\n",
              "      <td>3.20</td>\n",
              "      <td>0.68</td>\n",
              "      <td>9.8</td>\n",
              "      <td>0</td>\n",
              "    </tr>\n",
              "    <tr>\n",
              "      <th>2</th>\n",
              "      <td>7.8</td>\n",
              "      <td>0.76</td>\n",
              "      <td>0.04</td>\n",
              "      <td>2.3</td>\n",
              "      <td>0.092</td>\n",
              "      <td>15.0</td>\n",
              "      <td>54.0</td>\n",
              "      <td>0.99700</td>\n",
              "      <td>3.26</td>\n",
              "      <td>0.65</td>\n",
              "      <td>9.8</td>\n",
              "      <td>0</td>\n",
              "    </tr>\n",
              "    <tr>\n",
              "      <th>3</th>\n",
              "      <td>11.2</td>\n",
              "      <td>0.28</td>\n",
              "      <td>0.56</td>\n",
              "      <td>1.9</td>\n",
              "      <td>0.075</td>\n",
              "      <td>17.0</td>\n",
              "      <td>60.0</td>\n",
              "      <td>0.99800</td>\n",
              "      <td>3.16</td>\n",
              "      <td>0.58</td>\n",
              "      <td>9.8</td>\n",
              "      <td>0</td>\n",
              "    </tr>\n",
              "    <tr>\n",
              "      <th>4</th>\n",
              "      <td>7.4</td>\n",
              "      <td>0.70</td>\n",
              "      <td>0.00</td>\n",
              "      <td>1.9</td>\n",
              "      <td>0.076</td>\n",
              "      <td>11.0</td>\n",
              "      <td>34.0</td>\n",
              "      <td>0.99780</td>\n",
              "      <td>3.51</td>\n",
              "      <td>0.56</td>\n",
              "      <td>9.4</td>\n",
              "      <td>0</td>\n",
              "    </tr>\n",
              "    <tr>\n",
              "      <th>...</th>\n",
              "      <td>...</td>\n",
              "      <td>...</td>\n",
              "      <td>...</td>\n",
              "      <td>...</td>\n",
              "      <td>...</td>\n",
              "      <td>...</td>\n",
              "      <td>...</td>\n",
              "      <td>...</td>\n",
              "      <td>...</td>\n",
              "      <td>...</td>\n",
              "      <td>...</td>\n",
              "      <td>...</td>\n",
              "    </tr>\n",
              "    <tr>\n",
              "      <th>4893</th>\n",
              "      <td>6.2</td>\n",
              "      <td>0.21</td>\n",
              "      <td>0.29</td>\n",
              "      <td>1.6</td>\n",
              "      <td>0.039</td>\n",
              "      <td>24.0</td>\n",
              "      <td>92.0</td>\n",
              "      <td>0.99114</td>\n",
              "      <td>3.27</td>\n",
              "      <td>0.50</td>\n",
              "      <td>11.2</td>\n",
              "      <td>1</td>\n",
              "    </tr>\n",
              "    <tr>\n",
              "      <th>4894</th>\n",
              "      <td>6.6</td>\n",
              "      <td>0.32</td>\n",
              "      <td>0.36</td>\n",
              "      <td>8.0</td>\n",
              "      <td>0.047</td>\n",
              "      <td>57.0</td>\n",
              "      <td>168.0</td>\n",
              "      <td>0.99490</td>\n",
              "      <td>3.15</td>\n",
              "      <td>0.46</td>\n",
              "      <td>9.6</td>\n",
              "      <td>1</td>\n",
              "    </tr>\n",
              "    <tr>\n",
              "      <th>4895</th>\n",
              "      <td>6.5</td>\n",
              "      <td>0.24</td>\n",
              "      <td>0.19</td>\n",
              "      <td>1.2</td>\n",
              "      <td>0.041</td>\n",
              "      <td>30.0</td>\n",
              "      <td>111.0</td>\n",
              "      <td>0.99254</td>\n",
              "      <td>2.99</td>\n",
              "      <td>0.46</td>\n",
              "      <td>9.4</td>\n",
              "      <td>1</td>\n",
              "    </tr>\n",
              "    <tr>\n",
              "      <th>4896</th>\n",
              "      <td>5.5</td>\n",
              "      <td>0.29</td>\n",
              "      <td>0.30</td>\n",
              "      <td>1.1</td>\n",
              "      <td>0.022</td>\n",
              "      <td>20.0</td>\n",
              "      <td>110.0</td>\n",
              "      <td>0.98869</td>\n",
              "      <td>3.34</td>\n",
              "      <td>0.38</td>\n",
              "      <td>12.8</td>\n",
              "      <td>1</td>\n",
              "    </tr>\n",
              "    <tr>\n",
              "      <th>4897</th>\n",
              "      <td>6.0</td>\n",
              "      <td>0.21</td>\n",
              "      <td>0.38</td>\n",
              "      <td>0.8</td>\n",
              "      <td>0.020</td>\n",
              "      <td>22.0</td>\n",
              "      <td>98.0</td>\n",
              "      <td>0.98941</td>\n",
              "      <td>3.26</td>\n",
              "      <td>0.32</td>\n",
              "      <td>11.8</td>\n",
              "      <td>1</td>\n",
              "    </tr>\n",
              "  </tbody>\n",
              "</table>\n",
              "<p>6497 rows × 12 columns</p>\n",
              "</div>"
            ],
            "text/plain": [
              "      fixed acidity  volatile acidity  citric acid  ...  sulphates  alcohol  type\n",
              "0               7.4              0.70         0.00  ...       0.56      9.4     0\n",
              "1               7.8              0.88         0.00  ...       0.68      9.8     0\n",
              "2               7.8              0.76         0.04  ...       0.65      9.8     0\n",
              "3              11.2              0.28         0.56  ...       0.58      9.8     0\n",
              "4               7.4              0.70         0.00  ...       0.56      9.4     0\n",
              "...             ...               ...          ...  ...        ...      ...   ...\n",
              "4893            6.2              0.21         0.29  ...       0.50     11.2     1\n",
              "4894            6.6              0.32         0.36  ...       0.46      9.6     1\n",
              "4895            6.5              0.24         0.19  ...       0.46      9.4     1\n",
              "4896            5.5              0.29         0.30  ...       0.38     12.8     1\n",
              "4897            6.0              0.21         0.38  ...       0.32     11.8     1\n",
              "\n",
              "[6497 rows x 12 columns]"
            ]
          },
          "metadata": {
            "tags": []
          },
          "execution_count": 1
        }
      ]
    },
    {
      "cell_type": "markdown",
      "metadata": {
        "id": "Jy5OUuAFuinT"
      },
      "source": [
        "# Seção 2"
      ]
    },
    {
      "cell_type": "markdown",
      "metadata": {
        "id": "7IV7v2PLhYvH"
      },
      "source": [
        "## Verificando se existe valores faltantes em alguma coluna do conjunto de dados\n"
      ]
    },
    {
      "cell_type": "code",
      "metadata": {
        "colab": {
          "base_uri": "https://localhost:8080/",
          "height": 94
        },
        "id": "2j-nsnZzhiXe",
        "outputId": "e583234d-407c-46eb-bdcc-3da2ff431a9e"
      },
      "source": [
        "pd.DataFrame(df_winequality.isnull().sum(axis=0)).transpose()"
      ],
      "execution_count": null,
      "outputs": [
        {
          "output_type": "execute_result",
          "data": {
            "text/html": [
              "<div>\n",
              "<style scoped>\n",
              "    .dataframe tbody tr th:only-of-type {\n",
              "        vertical-align: middle;\n",
              "    }\n",
              "\n",
              "    .dataframe tbody tr th {\n",
              "        vertical-align: top;\n",
              "    }\n",
              "\n",
              "    .dataframe thead th {\n",
              "        text-align: right;\n",
              "    }\n",
              "</style>\n",
              "<table border=\"1\" class=\"dataframe\">\n",
              "  <thead>\n",
              "    <tr style=\"text-align: right;\">\n",
              "      <th></th>\n",
              "      <th>fixed acidity</th>\n",
              "      <th>volatile acidity</th>\n",
              "      <th>citric acid</th>\n",
              "      <th>residual sugar</th>\n",
              "      <th>chlorides</th>\n",
              "      <th>free sulfur dioxide</th>\n",
              "      <th>total sulfur dioxide</th>\n",
              "      <th>density</th>\n",
              "      <th>pH</th>\n",
              "      <th>sulphates</th>\n",
              "      <th>alcohol</th>\n",
              "      <th>type</th>\n",
              "    </tr>\n",
              "  </thead>\n",
              "  <tbody>\n",
              "    <tr>\n",
              "      <th>0</th>\n",
              "      <td>0</td>\n",
              "      <td>0</td>\n",
              "      <td>0</td>\n",
              "      <td>0</td>\n",
              "      <td>0</td>\n",
              "      <td>0</td>\n",
              "      <td>0</td>\n",
              "      <td>0</td>\n",
              "      <td>0</td>\n",
              "      <td>0</td>\n",
              "      <td>0</td>\n",
              "      <td>0</td>\n",
              "    </tr>\n",
              "  </tbody>\n",
              "</table>\n",
              "</div>"
            ],
            "text/plain": [
              "   fixed acidity  volatile acidity  citric acid  ...  sulphates  alcohol  type\n",
              "0              0                 0            0  ...          0        0     0\n",
              "\n",
              "[1 rows x 12 columns]"
            ]
          },
          "metadata": {
            "tags": []
          },
          "execution_count": 4
        }
      ]
    },
    {
      "cell_type": "code",
      "metadata": {
        "colab": {
          "base_uri": "https://localhost:8080/",
          "height": 94
        },
        "id": "TBFp7Clr4cjB",
        "outputId": "785decc3-cb3b-4d1b-9bce-79a7d5a40895"
      },
      "source": [
        "pd.DataFrame(df_winequality.isna().sum(axis=0)).transpose()"
      ],
      "execution_count": null,
      "outputs": [
        {
          "output_type": "execute_result",
          "data": {
            "text/html": [
              "<div>\n",
              "<style scoped>\n",
              "    .dataframe tbody tr th:only-of-type {\n",
              "        vertical-align: middle;\n",
              "    }\n",
              "\n",
              "    .dataframe tbody tr th {\n",
              "        vertical-align: top;\n",
              "    }\n",
              "\n",
              "    .dataframe thead th {\n",
              "        text-align: right;\n",
              "    }\n",
              "</style>\n",
              "<table border=\"1\" class=\"dataframe\">\n",
              "  <thead>\n",
              "    <tr style=\"text-align: right;\">\n",
              "      <th></th>\n",
              "      <th>fixed acidity</th>\n",
              "      <th>volatile acidity</th>\n",
              "      <th>citric acid</th>\n",
              "      <th>residual sugar</th>\n",
              "      <th>chlorides</th>\n",
              "      <th>free sulfur dioxide</th>\n",
              "      <th>total sulfur dioxide</th>\n",
              "      <th>density</th>\n",
              "      <th>pH</th>\n",
              "      <th>sulphates</th>\n",
              "      <th>alcohol</th>\n",
              "      <th>type</th>\n",
              "    </tr>\n",
              "  </thead>\n",
              "  <tbody>\n",
              "    <tr>\n",
              "      <th>0</th>\n",
              "      <td>0</td>\n",
              "      <td>0</td>\n",
              "      <td>0</td>\n",
              "      <td>0</td>\n",
              "      <td>0</td>\n",
              "      <td>0</td>\n",
              "      <td>0</td>\n",
              "      <td>0</td>\n",
              "      <td>0</td>\n",
              "      <td>0</td>\n",
              "      <td>0</td>\n",
              "      <td>0</td>\n",
              "    </tr>\n",
              "  </tbody>\n",
              "</table>\n",
              "</div>"
            ],
            "text/plain": [
              "   fixed acidity  volatile acidity  citric acid  ...  sulphates  alcohol  type\n",
              "0              0                 0            0  ...          0        0     0\n",
              "\n",
              "[1 rows x 12 columns]"
            ]
          },
          "metadata": {
            "tags": []
          },
          "execution_count": 5
        }
      ]
    },
    {
      "cell_type": "markdown",
      "metadata": {
        "id": "IfSBrWdX_GLX"
      },
      "source": [
        "O conjunto de dados não possui nenhum dado faltante e nenhum NA"
      ]
    },
    {
      "cell_type": "markdown",
      "metadata": {
        "id": "N8LobjU6h-Ye"
      },
      "source": [
        "## Verificando a frequência dos tipos de vinho no conjunto de dado"
      ]
    },
    {
      "cell_type": "code",
      "metadata": {
        "colab": {
          "base_uri": "https://localhost:8080/",
          "height": 281
        },
        "id": "boSzeQMoiD0w",
        "outputId": "21fdb196-a919-4400-bbe2-04035df49b7c"
      },
      "source": [
        "count_type = df_winequality.groupby(\"type\")[\"type\"].count()\n",
        "y = list(count_type)\n",
        "x = [0,1]\n",
        "plt.bar(x, y)\n",
        "plt.xticks(x, ('Tinto', 'Banco'))\n",
        "plt.ylabel('Quantidade')\n",
        "plt.title('Distribuição do tipo do Vinho no dataset')\n",
        "\n",
        "for x,y in zip(x,y):\n",
        "    label = \"{}\".format(y)\n",
        "    plt.annotate(label,(x,y), textcoords=\"offset points\", xytext=(0,-10), ha='center')\n",
        "\n",
        "plt.show()\n"
      ],
      "execution_count": null,
      "outputs": [
        {
          "output_type": "display_data",
          "data": {
            "image/png": "[encoded data removed]",
            "text/plain": [
              "<Figure size 432x288 with 1 Axes>"
            ]
          },
          "metadata": {
            "tags": [],
            "needs_background": "light"
          }
        }
      ]
    },
    {
      "cell_type": "markdown",
      "metadata": {
        "id": "WKrRSzg8Pmfx"
      },
      "source": [
        "É observado que as classes estão desbalanceadas, portanto, será feito o balanceamento das classes. Selecionamos uma amostra aleatória do tamanho da menor classe de vinho, vinha tinto, e escolhemos aleatoriamente na amostra de vinhos do tipo branco. Com isso temos as duas classes balanceadas com 1599 observações em ambas.\n",
        "\n"
      ]
    },
    {
      "cell_type": "code",
      "metadata": {
        "colab": {
          "base_uri": "https://localhost:8080/",
          "height": 281
        },
        "id": "WXam2878QgVv",
        "outputId": "43d6a33c-3211-426f-e572-a022840df1aa"
      },
      "source": [
        "import random\n",
        "\n",
        "#Definindo Semente\n",
        "seed = 10122020\n",
        "np.random.seed(seed)\n",
        "\n",
        "random.seed(seed)\n",
        "index_random = random.sample(range(df_white.shape[0]), df_red.shape[0], )\n",
        "df_white = df_white.iloc[index_random] \n",
        "\n",
        "df_winequality = pd.concat([df_red, df_white])\n",
        "\n",
        "count_type = df_winequality.groupby(\"type\")[\"type\"].count()\n",
        "y = list(count_type)\n",
        "x = [0,1]\n",
        "plt.bar(x, y)\n",
        "plt.xticks(x, ('Tinto', 'Banco'))\n",
        "plt.ylabel('Quantidade')\n",
        "plt.title('Distribuição do tipo do Vinho no dataset')\n",
        "\n",
        "for x,y in zip(x,y):\n",
        "    label = \"{}\".format(y)\n",
        "    plt.annotate(label,(x,y), textcoords=\"offset points\", xytext=(0,-10), ha='center')\n",
        "\n",
        "plt.show()\n"
      ],
      "execution_count": null,
      "outputs": [
        {
          "output_type": "display_data",
          "data": {
            "image/png": "[encoded data removed]",
            "text/plain": [
              "<Figure size 432x288 with 1 Axes>"
            ]
          },
          "metadata": {
            "tags": [],
            "needs_background": "light"
          }
        }
      ]
    },
    {
      "cell_type": "markdown",
      "metadata": {
        "id": "ckbyxpedRpMJ"
      },
      "source": [
        "## Análise Descritiva das Variáveis"
      ]
    },
    {
      "cell_type": "code",
      "metadata": {
        "colab": {
          "base_uri": "https://localhost:8080/",
          "height": 321
        },
        "id": "Q1n6Aif4RugP",
        "outputId": "e0b01948-e0cc-4b34-dc97-58328999123b"
      },
      "source": [
        "df_winequality.drop('type', axis = 1).describe()"
      ],
      "execution_count": null,
      "outputs": [
        {
          "output_type": "execute_result",
          "data": {
            "text/html": [
              "<div>\n",
              "<style scoped>\n",
              "    .dataframe tbody tr th:only-of-type {\n",
              "        vertical-align: middle;\n",
              "    }\n",
              "\n",
              "    .dataframe tbody tr th {\n",
              "        vertical-align: top;\n",
              "    }\n",
              "\n",
              "    .dataframe thead th {\n",
              "        text-align: right;\n",
              "    }\n",
              "</style>\n",
              "<table border=\"1\" class=\"dataframe\">\n",
              "  <thead>\n",
              "    <tr style=\"text-align: right;\">\n",
              "      <th></th>\n",
              "      <th>fixed acidity</th>\n",
              "      <th>volatile acidity</th>\n",
              "      <th>citric acid</th>\n",
              "      <th>residual sugar</th>\n",
              "      <th>chlorides</th>\n",
              "      <th>free sulfur dioxide</th>\n",
              "      <th>total sulfur dioxide</th>\n",
              "      <th>density</th>\n",
              "      <th>pH</th>\n",
              "      <th>sulphates</th>\n",
              "      <th>alcohol</th>\n",
              "    </tr>\n",
              "  </thead>\n",
              "  <tbody>\n",
              "    <tr>\n",
              "      <th>count</th>\n",
              "      <td>3198.000000</td>\n",
              "      <td>3198.000000</td>\n",
              "      <td>3198.000000</td>\n",
              "      <td>3198.000000</td>\n",
              "      <td>3198.000000</td>\n",
              "      <td>3198.000000</td>\n",
              "      <td>3198.000000</td>\n",
              "      <td>3198.000000</td>\n",
              "      <td>3198.000000</td>\n",
              "      <td>3198.000000</td>\n",
              "      <td>3198.000000</td>\n",
              "    </tr>\n",
              "    <tr>\n",
              "      <th>mean</th>\n",
              "      <td>7.602611</td>\n",
              "      <td>0.402892</td>\n",
              "      <td>0.303108</td>\n",
              "      <td>4.548812</td>\n",
              "      <td>0.066662</td>\n",
              "      <td>25.482176</td>\n",
              "      <td>92.375704</td>\n",
              "      <td>0.995436</td>\n",
              "      <td>3.245291</td>\n",
              "      <td>0.574834</td>\n",
              "      <td>10.452142</td>\n",
              "    </tr>\n",
              "    <tr>\n",
              "      <th>std</th>\n",
              "      <td>1.546280</td>\n",
              "      <td>0.191553</td>\n",
              "      <td>0.164351</td>\n",
              "      <td>4.276409</td>\n",
              "      <td>0.042261</td>\n",
              "      <td>16.715648</td>\n",
              "      <td>59.580372</td>\n",
              "      <td>0.002814</td>\n",
              "      <td>0.165913</td>\n",
              "      <td>0.166151</td>\n",
              "      <td>1.148639</td>\n",
              "    </tr>\n",
              "    <tr>\n",
              "      <th>min</th>\n",
              "      <td>4.400000</td>\n",
              "      <td>0.080000</td>\n",
              "      <td>0.000000</td>\n",
              "      <td>0.700000</td>\n",
              "      <td>0.012000</td>\n",
              "      <td>1.000000</td>\n",
              "      <td>6.000000</td>\n",
              "      <td>0.987130</td>\n",
              "      <td>2.720000</td>\n",
              "      <td>0.230000</td>\n",
              "      <td>8.400000</td>\n",
              "    </tr>\n",
              "    <tr>\n",
              "      <th>25%</th>\n",
              "      <td>6.600000</td>\n",
              "      <td>0.255000</td>\n",
              "      <td>0.210000</td>\n",
              "      <td>1.900000</td>\n",
              "      <td>0.042000</td>\n",
              "      <td>12.000000</td>\n",
              "      <td>37.000000</td>\n",
              "      <td>0.993485</td>\n",
              "      <td>3.130000</td>\n",
              "      <td>0.470000</td>\n",
              "      <td>9.500000</td>\n",
              "    </tr>\n",
              "    <tr>\n",
              "      <th>50%</th>\n",
              "      <td>7.200000</td>\n",
              "      <td>0.360000</td>\n",
              "      <td>0.300000</td>\n",
              "      <td>2.400000</td>\n",
              "      <td>0.059000</td>\n",
              "      <td>23.000000</td>\n",
              "      <td>90.000000</td>\n",
              "      <td>0.995800</td>\n",
              "      <td>3.240000</td>\n",
              "      <td>0.550000</td>\n",
              "      <td>10.200000</td>\n",
              "    </tr>\n",
              "    <tr>\n",
              "      <th>75%</th>\n",
              "      <td>8.200000</td>\n",
              "      <td>0.530000</td>\n",
              "      <td>0.400000</td>\n",
              "      <td>6.100000</td>\n",
              "      <td>0.080000</td>\n",
              "      <td>35.000000</td>\n",
              "      <td>136.000000</td>\n",
              "      <td>0.997400</td>\n",
              "      <td>3.360000</td>\n",
              "      <td>0.650000</td>\n",
              "      <td>11.200000</td>\n",
              "    </tr>\n",
              "    <tr>\n",
              "      <th>max</th>\n",
              "      <td>15.900000</td>\n",
              "      <td>1.580000</td>\n",
              "      <td>1.000000</td>\n",
              "      <td>31.600000</td>\n",
              "      <td>0.611000</td>\n",
              "      <td>108.000000</td>\n",
              "      <td>344.000000</td>\n",
              "      <td>1.010300</td>\n",
              "      <td>4.010000</td>\n",
              "      <td>2.000000</td>\n",
              "      <td>14.900000</td>\n",
              "    </tr>\n",
              "  </tbody>\n",
              "</table>\n",
              "</div>"
            ],
            "text/plain": [
              "       fixed acidity  volatile acidity  ...    sulphates      alcohol\n",
              "count    3198.000000       3198.000000  ...  3198.000000  3198.000000\n",
              "mean        7.602611          0.402892  ...     0.574834    10.452142\n",
              "std         1.546280          0.191553  ...     0.166151     1.148639\n",
              "min         4.400000          0.080000  ...     0.230000     8.400000\n",
              "25%         6.600000          0.255000  ...     0.470000     9.500000\n",
              "50%         7.200000          0.360000  ...     0.550000    10.200000\n",
              "75%         8.200000          0.530000  ...     0.650000    11.200000\n",
              "max        15.900000          1.580000  ...     2.000000    14.900000\n",
              "\n",
              "[8 rows x 11 columns]"
            ]
          },
          "metadata": {
            "tags": []
          },
          "execution_count": 8
        }
      ]
    },
    {
      "cell_type": "code",
      "metadata": {
        "colab": {
          "base_uri": "https://localhost:8080/",
          "height": 383
        },
        "id": "AUwxb_u8WYG1",
        "outputId": "1b7dd32e-e1e8-41ea-fbe1-7bcf6a7b2a40"
      },
      "source": [
        "df_winequality.drop('type', axis=1).boxplot( rot=45, fontsize=15, figsize = (13,4))"
      ],
      "execution_count": null,
      "outputs": [
        {
          "output_type": "execute_result",
          "data": {
            "text/plain": [
              "<matplotlib.axes._subplots.AxesSubplot at 0x7feab39ba470>"
            ]
          },
          "metadata": {
            "tags": []
          },
          "execution_count": 9
        },
        {
          "output_type": "display_data",
          "data": {
            "image/png": "[encoded data removed]",
            "text/plain": [
              "<Figure size 936x288 with 1 Axes>"
            ]
          },
          "metadata": {
            "tags": [],
            "needs_background": "light"
          }
        }
      ]
    },
    {
      "cell_type": "markdown",
      "metadata": {
        "id": "chlYDBUqSqqx"
      },
      "source": [
        "Podemos observar a diferença de escala entre os atributos, isto pode afetar diretamente a estimação de parametros do modelo, portanto, o ideal é padronizar as variáveis. A normalização torna os dados mais bem condicionados para convergência dos algoritmos de ML."
      ]
    },
    {
      "cell_type": "code",
      "metadata": {
        "colab": {
          "base_uri": "https://localhost:8080/",
          "height": 406
        },
        "id": "mUhQ42n1TFd4",
        "outputId": "c4e22f8e-06bc-48a2-a15a-31bde9e5d3a1"
      },
      "source": [
        "from sklearn import preprocessing\n",
        "\n",
        "names = df_winequality.columns\n",
        "scaler = preprocessing.MinMaxScaler()\n",
        "scaled_df = scaler.fit_transform(df_winequality)\n",
        "df_winequality = pd.DataFrame(scaled_df, columns=names)\n",
        "df_winequality"
      ],
      "execution_count": null,
      "outputs": [
        {
          "output_type": "execute_result",
          "data": {
            "text/html": [
              "<div>\n",
              "<style scoped>\n",
              "    .dataframe tbody tr th:only-of-type {\n",
              "        vertical-align: middle;\n",
              "    }\n",
              "\n",
              "    .dataframe tbody tr th {\n",
              "        vertical-align: top;\n",
              "    }\n",
              "\n",
              "    .dataframe thead th {\n",
              "        text-align: right;\n",
              "    }\n",
              "</style>\n",
              "<table border=\"1\" class=\"dataframe\">\n",
              "  <thead>\n",
              "    <tr style=\"text-align: right;\">\n",
              "      <th></th>\n",
              "      <th>fixed acidity</th>\n",
              "      <th>volatile acidity</th>\n",
              "      <th>citric acid</th>\n",
              "      <th>residual sugar</th>\n",
              "      <th>chlorides</th>\n",
              "      <th>free sulfur dioxide</th>\n",
              "      <th>total sulfur dioxide</th>\n",
              "      <th>density</th>\n",
              "      <th>pH</th>\n",
              "      <th>sulphates</th>\n",
              "      <th>alcohol</th>\n",
              "      <th>type</th>\n",
              "    </tr>\n",
              "  </thead>\n",
              "  <tbody>\n",
              "    <tr>\n",
              "      <th>0</th>\n",
              "      <td>0.260870</td>\n",
              "      <td>0.413333</td>\n",
              "      <td>0.00</td>\n",
              "      <td>0.038835</td>\n",
              "      <td>0.106845</td>\n",
              "      <td>0.093458</td>\n",
              "      <td>0.082840</td>\n",
              "      <td>0.460509</td>\n",
              "      <td>0.612403</td>\n",
              "      <td>0.186441</td>\n",
              "      <td>0.153846</td>\n",
              "      <td>0.0</td>\n",
              "    </tr>\n",
              "    <tr>\n",
              "      <th>1</th>\n",
              "      <td>0.295652</td>\n",
              "      <td>0.533333</td>\n",
              "      <td>0.00</td>\n",
              "      <td>0.061489</td>\n",
              "      <td>0.143573</td>\n",
              "      <td>0.224299</td>\n",
              "      <td>0.180473</td>\n",
              "      <td>0.417350</td>\n",
              "      <td>0.372093</td>\n",
              "      <td>0.254237</td>\n",
              "      <td>0.215385</td>\n",
              "      <td>0.0</td>\n",
              "    </tr>\n",
              "    <tr>\n",
              "      <th>2</th>\n",
              "      <td>0.295652</td>\n",
              "      <td>0.453333</td>\n",
              "      <td>0.04</td>\n",
              "      <td>0.051780</td>\n",
              "      <td>0.133556</td>\n",
              "      <td>0.130841</td>\n",
              "      <td>0.142012</td>\n",
              "      <td>0.425982</td>\n",
              "      <td>0.418605</td>\n",
              "      <td>0.237288</td>\n",
              "      <td>0.215385</td>\n",
              "      <td>0.0</td>\n",
              "    </tr>\n",
              "    <tr>\n",
              "      <th>3</th>\n",
              "      <td>0.591304</td>\n",
              "      <td>0.133333</td>\n",
              "      <td>0.56</td>\n",
              "      <td>0.038835</td>\n",
              "      <td>0.105175</td>\n",
              "      <td>0.149533</td>\n",
              "      <td>0.159763</td>\n",
              "      <td>0.469141</td>\n",
              "      <td>0.341085</td>\n",
              "      <td>0.197740</td>\n",
              "      <td>0.215385</td>\n",
              "      <td>0.0</td>\n",
              "    </tr>\n",
              "    <tr>\n",
              "      <th>4</th>\n",
              "      <td>0.260870</td>\n",
              "      <td>0.413333</td>\n",
              "      <td>0.00</td>\n",
              "      <td>0.038835</td>\n",
              "      <td>0.106845</td>\n",
              "      <td>0.093458</td>\n",
              "      <td>0.082840</td>\n",
              "      <td>0.460509</td>\n",
              "      <td>0.612403</td>\n",
              "      <td>0.186441</td>\n",
              "      <td>0.153846</td>\n",
              "      <td>0.0</td>\n",
              "    </tr>\n",
              "    <tr>\n",
              "      <th>...</th>\n",
              "      <td>...</td>\n",
              "      <td>...</td>\n",
              "      <td>...</td>\n",
              "      <td>...</td>\n",
              "      <td>...</td>\n",
              "      <td>...</td>\n",
              "      <td>...</td>\n",
              "      <td>...</td>\n",
              "      <td>...</td>\n",
              "      <td>...</td>\n",
              "      <td>...</td>\n",
              "      <td>...</td>\n",
              "    </tr>\n",
              "    <tr>\n",
              "      <th>3193</th>\n",
              "      <td>0.208696</td>\n",
              "      <td>0.140000</td>\n",
              "      <td>0.50</td>\n",
              "      <td>0.407767</td>\n",
              "      <td>0.068447</td>\n",
              "      <td>0.439252</td>\n",
              "      <td>0.556213</td>\n",
              "      <td>0.443246</td>\n",
              "      <td>0.286822</td>\n",
              "      <td>0.124294</td>\n",
              "      <td>0.153846</td>\n",
              "      <td>1.0</td>\n",
              "    </tr>\n",
              "    <tr>\n",
              "      <th>3194</th>\n",
              "      <td>0.243478</td>\n",
              "      <td>0.066667</td>\n",
              "      <td>0.31</td>\n",
              "      <td>0.012945</td>\n",
              "      <td>0.055092</td>\n",
              "      <td>0.177570</td>\n",
              "      <td>0.198225</td>\n",
              "      <td>0.231765</td>\n",
              "      <td>0.465116</td>\n",
              "      <td>0.096045</td>\n",
              "      <td>0.369231</td>\n",
              "      <td>1.0</td>\n",
              "    </tr>\n",
              "    <tr>\n",
              "      <th>3195</th>\n",
              "      <td>0.208696</td>\n",
              "      <td>0.053333</td>\n",
              "      <td>0.40</td>\n",
              "      <td>0.051780</td>\n",
              "      <td>0.041736</td>\n",
              "      <td>0.158879</td>\n",
              "      <td>0.284024</td>\n",
              "      <td>0.223133</td>\n",
              "      <td>0.596899</td>\n",
              "      <td>0.107345</td>\n",
              "      <td>0.461538</td>\n",
              "      <td>1.0</td>\n",
              "    </tr>\n",
              "    <tr>\n",
              "      <th>3196</th>\n",
              "      <td>0.208696</td>\n",
              "      <td>0.093333</td>\n",
              "      <td>0.35</td>\n",
              "      <td>0.543689</td>\n",
              "      <td>0.045075</td>\n",
              "      <td>0.345794</td>\n",
              "      <td>0.434911</td>\n",
              "      <td>0.529564</td>\n",
              "      <td>0.403101</td>\n",
              "      <td>0.107345</td>\n",
              "      <td>0.092308</td>\n",
              "      <td>1.0</td>\n",
              "    </tr>\n",
              "    <tr>\n",
              "      <th>3197</th>\n",
              "      <td>0.173913</td>\n",
              "      <td>0.193333</td>\n",
              "      <td>0.19</td>\n",
              "      <td>0.090615</td>\n",
              "      <td>0.093489</td>\n",
              "      <td>0.158879</td>\n",
              "      <td>0.281065</td>\n",
              "      <td>0.270609</td>\n",
              "      <td>0.240310</td>\n",
              "      <td>0.084746</td>\n",
              "      <td>0.092308</td>\n",
              "      <td>1.0</td>\n",
              "    </tr>\n",
              "  </tbody>\n",
              "</table>\n",
              "<p>3198 rows × 12 columns</p>\n",
              "</div>"
            ],
            "text/plain": [
              "      fixed acidity  volatile acidity  citric acid  ...  sulphates   alcohol  type\n",
              "0          0.260870          0.413333         0.00  ...   0.186441  0.153846   0.0\n",
              "1          0.295652          0.533333         0.00  ...   0.254237  0.215385   0.0\n",
              "2          0.295652          0.453333         0.04  ...   0.237288  0.215385   0.0\n",
              "3          0.591304          0.133333         0.56  ...   0.197740  0.215385   0.0\n",
              "4          0.260870          0.413333         0.00  ...   0.186441  0.153846   0.0\n",
              "...             ...               ...          ...  ...        ...       ...   ...\n",
              "3193       0.208696          0.140000         0.50  ...   0.124294  0.153846   1.0\n",
              "3194       0.243478          0.066667         0.31  ...   0.096045  0.369231   1.0\n",
              "3195       0.208696          0.053333         0.40  ...   0.107345  0.461538   1.0\n",
              "3196       0.208696          0.093333         0.35  ...   0.107345  0.092308   1.0\n",
              "3197       0.173913          0.193333         0.19  ...   0.084746  0.092308   1.0\n",
              "\n",
              "[3198 rows x 12 columns]"
            ]
          },
          "metadata": {
            "tags": []
          },
          "execution_count": 27
        }
      ]
    },
    {
      "cell_type": "code",
      "metadata": {
        "colab": {
          "base_uri": "https://localhost:8080/",
          "height": 383
        },
        "id": "ACaerZtdVaen",
        "outputId": "0ed29d32-9428-46d1-9fbb-075e3ecf3e4e"
      },
      "source": [
        "df_winequality.drop('type', axis=1).boxplot( rot=45, fontsize=15, figsize = (13,4))"
      ],
      "execution_count": null,
      "outputs": [
        {
          "output_type": "execute_result",
          "data": {
            "text/plain": [
              "<matplotlib.axes._subplots.AxesSubplot at 0x7feab2234550>"
            ]
          },
          "metadata": {
            "tags": []
          },
          "execution_count": 13
        },
        {
          "output_type": "display_data",
          "data": {
            "image/png": "[encoded data removed]",
            "text/plain": [
              "<Figure size 936x288 with 1 Axes>"
            ]
          },
          "metadata": {
            "tags": [],
            "needs_background": "light"
          }
        }
      ]
    },
    {
      "cell_type": "markdown",
      "metadata": {
        "id": "vRHJ6er9YBaR"
      },
      "source": [
        "## Matriz de Correlação"
      ]
    },
    {
      "cell_type": "code",
      "metadata": {
        "colab": {
          "base_uri": "https://localhost:8080/",
          "height": 696
        },
        "id": "x9CkICnWYEPS",
        "outputId": "6e661998-289d-4ebe-ff49-c0b1cf1a5329"
      },
      "source": [
        "import seaborn as sns\n",
        "corr = df_winequality.drop('type', axis = 1).corr()\n",
        "plt.subplots(figsize=(15,10))\n",
        "sns.heatmap(corr, \n",
        "        xticklabels=corr.columns,\n",
        "        yticklabels=corr.columns, annot=True, linewidths=2)"
      ],
      "execution_count": null,
      "outputs": [
        {
          "output_type": "execute_result",
          "data": {
            "text/plain": [
              "<matplotlib.axes._subplots.AxesSubplot at 0x7feab20ddf98>"
            ]
          },
          "metadata": {
            "tags": []
          },
          "execution_count": 14
        },
        {
          "output_type": "display_data",
          "data": {
            "image/png": "[encoded data removed]",
            "text/plain": [
              "<Figure size 1080x720 with 2 Axes>"
            ]
          },
          "metadata": {
            "tags": [],
            "needs_background": "light"
          }
        }
      ]
    },
    {
      "cell_type": "markdown",
      "metadata": {
        "id": "wAy97ejJ_moa"
      },
      "source": [
        "A matriz de correlação mostra os valores de correlação de Pearson que medem o grau de relação linear entre cada par atributos. Os valores de correlação podem variar entre -1 e +1. A maior correlação entre as variáveis do conjunto de dado é uma correlação inversa entre alcool e density, correlação de $\\rho=0.62$, considerada moderadas mas que não chega a causar multicolinearidade."
      ]
    },
    {
      "cell_type": "markdown",
      "metadata": {
        "id": "qYyDrph8vp9t"
      },
      "source": [
        "# Seção 3"
      ]
    },
    {
      "cell_type": "markdown",
      "metadata": {
        "id": "VhSITz3XEsff"
      },
      "source": [
        "### Modelos Utilizados\n",
        "* Árvore de Decisão\n",
        "\n",
        "Árvores de decisão são modelos estatísticos utilizados em problemas de predição supervisionada, onde um conjunto de atributos é utilizado para predizer o valor de um atributo de saída (atributo alvo ou target). Uma árvore de decisão é um mapa dos possíveis resultados de uma série de escolhas relacionadas. Permite que um indivíduo ou organização tenha um suporte a tomada de decisões com base nas condições e probabilidades. Podem pode ser usadas tanto para conduzir diálogos informais quanto para mapear um algoritmo que prevê a melhor escolha, matematicamente.\n",
        "\n",
        "* SVC\n",
        "\n",
        "As SVMs são embasadas pela teoria de aprendizado estatístico. Essa teoria estabelece uma série de princípios que devem ser seguidos na  obtenção  de  classificadores  com  boa  generalização,  definidos  como  a  sua capacidade de prever corretamente a classe de novos dados do mesmo domínio em que  o  aprendizado  ocorreu.  Esta  técnica  originalmente  surgiu  para  classificaçãobinária,  busca  a  construção  de  um  hiperplano  como  superfície  de  decisão,  de  tal forma  que  a  separação  entre  exemplos  seja  máxima,  isso  considerando  padrões linearmente separáveis para   padrões   não   linearmente   separáveis,   busca-se   uma   função   de mapeamento  apropriado  para  tornar  o  conjunto  mapeado  linearmente  separável. \n",
        "\n",
        "* Regressão Logística\n",
        "\n",
        "O modelo paramétrico de regressão logística constitui um método de classificação supervisionada e trata-se de um caso particular dos modelos lineares generalizados definido pela distribuição binomial com função de ligação canônica, apropriado para a modelagem de resposta binária ou categórica. A predição na regressão logística é feita a partir da ponderação das variáveis explicativas (X) com base no efeito que cada uma exerce em relação à ocorrência da variável resposta (Y), possibilitando assim que se estime a probabilidade de ocorrência do evento de interesse.\n",
        "\n",
        "* Random Forest\n",
        "\n",
        "Um algoritmo que abrange as Árvores de Decisão é a Random Forest. Ele é capaz de executar tarefas de regressão e de classificação, sendo também possível aplicar métodos de redução dimensional, tratar valores faltantes e anômalos. É um aprendizado que combina modelos com determinada robustez para obter um novo de robustez maior. Nesse modelo crescem múltiplas árvores, ao invés do CART, modelo onde cresce uma árvore para regressão e classificação. Cada árvore classifica um objeto baseado em seus atributos, sendo portanto essa a classificação a resposta dada pelo algoritmo.\n"
      ]
    },
    {
      "cell_type": "markdown",
      "metadata": {
        "id": "HtVzVJ91HEqa"
      },
      "source": [
        "## Holdout"
      ]
    },
    {
      "cell_type": "markdown",
      "metadata": {
        "id": "Houx9ffbHIVx"
      },
      "source": [
        "Consiste basicamente em particionar o conjunto de dados, de forma aleatória em dois subconjuntos mutuamente excludentes: conjunto de treinamento e de teste. Tipicamente, seleciona-se aleatoriamente entre 20% e 30% dos dados para compor o conjunto de teste e os demais é utilizado no conjunto de treinamento. Desejamos construir o classificador utilizando um conjunto de padrões onde as verdadeiras populações são conhecidas e classificar novos padrões sem conhecer o grupo a que pertencem. De forma geral, utilizamos o conjunto de treinamento\r\n",
        "para construir a regra de classificação, selecionar parâmetros do modelo, etc e o seu desempenho será avaliado por meio do conjunto de teste."
      ]
    },
    {
      "cell_type": "markdown",
      "metadata": {
        "id": "C-t-XG_IvtF9"
      },
      "source": [
        "## Validação Cruzada\n"
      ]
    },
    {
      "cell_type": "markdown",
      "metadata": {
        "id": "g7grwY-8D6kL"
      },
      "source": [
        "A validação cruzada é um método de reamostragem que tem como objetivo avaliar a capacidade de generalização de modelos, normalmente a distribuição entre treino e teste é feita da seguinte forma:\r\n",
        "\r\n",
        "<div >\r\n",
        "<center>\r\n",
        "<img src=\"https://miro.medium.com/max/625/1*0_jdEVi6l1Nj-DKK8wJTTQ.png\" width=\"500\"  />\r\n",
        "</center>\r\n",
        "</div>\r\n"
      ]
    },
    {
      "cell_type": "markdown",
      "metadata": {
        "id": "j1De_g2Y-Jnc"
      },
      "source": [
        "## Metricas de Validação para Modelos de Classificação\n"
      ]
    },
    {
      "cell_type": "markdown",
      "metadata": {
        "id": "euDEg9SNBnKi"
      },
      "source": [
        "### Preliminares\n",
        "\n",
        "* TP - Verdadeiros Positivos: classificação correta da classe 1;\n",
        "* FN - Falsos Negativos (Erro Tipo II): erro em que o modelo previu a classe 0 quando o valor real era classe 1;\n",
        "* FP - Falsos Positivos (Erro Tipo I): erro em que o modelo previu a classe 1 quando o valor real era classe 0;\n",
        "* TN - Verdadeiros Negativos: classificação correta da classe 0.\n"
      ]
    },
    {
      "cell_type": "markdown",
      "metadata": {
        "id": "aRWIXsQW-V4m"
      },
      "source": [
        "### Acurácia\n",
        "\n",
        "\n",
        "É basicamente o número de acertos (positivos) divido pelo número total de exemplos. Ela deve ser usada em datasets com a mesma proporção de exemplos para cada classe, e quando as penalidades de acerto e erro para cada classe forem as mesmas.\n",
        "\n",
        "$$accuracy = \\frac{TP + TN}{TP + FN + FP + TN}$$\n",
        "\n",
        "\n"
      ]
    },
    {
      "cell_type": "markdown",
      "metadata": {
        "id": "ewPtHN5m-YG9"
      },
      "source": [
        "### Precisão\n",
        "\n",
        "Número de exemplos classificados como pertencentes a uma classe, que realmente são daquela classe (positivos verdadeiros), dividido pela soma entre este número, e o número de exemplos classificados nesta classe, mas que pertencem a outras (falsos positivos).\n",
        "\n",
        "$$precision_{class = k} = \\frac{TP_k}{TP_k + FP_k}$$"
      ]
    },
    {
      "cell_type": "markdown",
      "metadata": {
        "id": "CJ5mglvi-gTu"
      },
      "source": [
        "### Recall\n",
        "Número de exemplos classificados como pertencentes a uma classe, que realmente são daquela classe, dividido pela quantidade total de exemplos que pertencem a esta classe, mesmo que sejam classificados em outra\n",
        "\n",
        "$$recall_{class = k} = \\frac{TP_k}{TP_k + FN_k}$$"
      ]
    },
    {
      "cell_type": "markdown",
      "metadata": {
        "id": "Scrzy4AGBHtv"
      },
      "source": [
        "### F1-Score\n",
        "\n",
        "O F1 Score é uma média harmônica entre precisão e recall.\n",
        "\n",
        "$$2 * \\frac{ Precisão * Recall}{Precisão + Recall}$$"
      ]
    },
    {
      "cell_type": "markdown",
      "metadata": {
        "id": "0fJtjfXd-zYc"
      },
      "source": [
        "## Separando Conjunto de dados em dados de Treinamento e Teste"
      ]
    },
    {
      "cell_type": "code",
      "metadata": {
        "id": "2w0zjtNov4ii"
      },
      "source": [
        "seed = 10122020\n",
        "np.random.seed(seed)\n",
        "\n",
        "#Utilizando o train_test_split podemos separar nosso conjunto de dados em dados de teste e treinamento\n",
        "from sklearn.model_selection import train_test_split\n",
        "\n",
        "X = df_winequality.drop('type', axis = 1)\n",
        "y = df_winequality['type']\n"
      ],
      "execution_count": null,
      "outputs": []
    },
    {
      "cell_type": "markdown",
      "metadata": {
        "id": "6v7xWa9w1Kxf"
      },
      "source": [
        "## Testando Modelos"
      ]
    },
    {
      "cell_type": "code",
      "metadata": {
        "id": "kYNLFbVZyHoR"
      },
      "source": [
        "#Utilizando o cross_val_score podemos fazer a validação cruzada facilmente\n",
        "from sklearn.model_selection import cross_val_score\n",
        "#Utilizando o StratifiedKFold temos que treinar e testar os modelos com os folds contendo a mesma proporção de vinhos em cada classe\n",
        "from sklearn.model_selection import StratifiedKFold \n",
        "\n",
        "#Modelos utilizados\n",
        "from sklearn.tree import DecisionTreeClassifier\n",
        "from sklearn.svm import SVC\n",
        "from sklearn.linear_model import LogisticRegression\n",
        "from sklearn.ensemble import RandomForestClassifier\n",
        "\n",
        "m1 = DecisionTreeClassifier(max_depth=3)\n",
        "m2 = SVC()\n",
        "m3 = LogisticRegression(solver='liblinear')\n",
        "m4 = RandomForestClassifier(n_estimators=100, random_state=seed)\n",
        "\n",
        "models = [m1,m2,m3,m4]\n",
        "name_models = ['Árvore de Decisão', 'SVC', 'Regressão Logística', 'Random Forest']\n",
        "\n",
        "\n",
        "\n",
        "metrics = ['accuracy', 'precision', 'recall', 'f1']\n",
        "result_metrics = {}\n",
        "\n",
        "\n",
        "#Criando Fold-s balanceados\n",
        "n_folds = 10\n",
        "cv = StratifiedKFold(n_splits = n_folds, shuffle = True)\n",
        "\n",
        "#Holdout  70-30% x 10\n",
        "for seed_cross in range(10):\n",
        "  X_train, X_test, y_train, y_test = train_test_split(\n",
        "                                    X, y, test_size = 0.30, stratify = y,  random_state = seed_cross)\n",
        "  \n",
        "  count = 0\n",
        "  for model in models:\n",
        "    name_model = name_models[count]\n",
        "    print('Modelo: {} ({})'.format(name_model, seed_cross) )\n",
        "    np.random.seed(seed)\n",
        "    \n",
        "    for metric in metrics:\n",
        "      \n",
        "      key_model_metric = '{}_{}'.format(name_model,metric)\n",
        "      if not key_model_metric in result_metrics.keys():\n",
        "        result_metrics[key_model_metric] = []\n",
        "\n",
        "      np.random.seed(seed)\n",
        "      results = cross_val_score(model, X_train, y_train, cv = cv, scoring = metric )\n",
        "      result_metrics[key_model_metric].extend(results) \n",
        "      \n",
        "      mean = results.mean()\n",
        "      dv = results.std()\n",
        "      print('{:10} média: {:.2f}%  Intervalo: [{:.2f}% ~ {:.2f}%]'.format(metric, mean*100, (mean - 2*dv)*100, (mean + 2*dv)*100))\n",
        "    \n",
        "    print('\\n\\n')\n",
        "    count += 1"
      ],
      "execution_count": null,
      "outputs": []
    },
    {
      "cell_type": "markdown",
      "metadata": {
        "id": "e5RoZ5DKeftF"
      },
      "source": [
        "## Resultado de Acurácia, Precisão e Recall para cada modelo em cada k-fold da validação"
      ]
    },
    {
      "cell_type": "code",
      "metadata": {
        "colab": {
          "base_uri": "https://localhost:8080/",
          "height": 443
        },
        "id": "cpD51tbHbfCG",
        "outputId": "6cf5c182-3da0-44bc-b0e2-e9770ec95124"
      },
      "source": [
        "df_result = pd.DataFrame(result_metrics)\n",
        "df_result"
      ],
      "execution_count": null,
      "outputs": [
        {
          "output_type": "execute_result",
          "data": {
            "text/html": [
              "<div>\n",
              "<style scoped>\n",
              "    .dataframe tbody tr th:only-of-type {\n",
              "        vertical-align: middle;\n",
              "    }\n",
              "\n",
              "    .dataframe tbody tr th {\n",
              "        vertical-align: top;\n",
              "    }\n",
              "\n",
              "    .dataframe thead th {\n",
              "        text-align: right;\n",
              "    }\n",
              "</style>\n",
              "<table border=\"1\" class=\"dataframe\">\n",
              "  <thead>\n",
              "    <tr style=\"text-align: right;\">\n",
              "      <th></th>\n",
              "      <th>Árvore de Decisão_accuracy</th>\n",
              "      <th>Árvore de Decisão_precision</th>\n",
              "      <th>Árvore de Decisão_recall</th>\n",
              "      <th>Árvore de Decisão_f1</th>\n",
              "      <th>SVC_accuracy</th>\n",
              "      <th>SVC_precision</th>\n",
              "      <th>SVC_recall</th>\n",
              "      <th>SVC_f1</th>\n",
              "      <th>Regressão Logística_accuracy</th>\n",
              "      <th>Regressão Logística_precision</th>\n",
              "      <th>Regressão Logística_recall</th>\n",
              "      <th>Regressão Logística_f1</th>\n",
              "      <th>Random Forest_accuracy</th>\n",
              "      <th>Random Forest_precision</th>\n",
              "      <th>Random Forest_recall</th>\n",
              "      <th>Random Forest_f1</th>\n",
              "    </tr>\n",
              "  </thead>\n",
              "  <tbody>\n",
              "    <tr>\n",
              "      <th>0</th>\n",
              "      <td>0.973214</td>\n",
              "      <td>0.973214</td>\n",
              "      <td>0.973214</td>\n",
              "      <td>0.973214</td>\n",
              "      <td>1.000000</td>\n",
              "      <td>1.000000</td>\n",
              "      <td>1.000000</td>\n",
              "      <td>1.000000</td>\n",
              "      <td>0.991071</td>\n",
              "      <td>0.991071</td>\n",
              "      <td>0.991071</td>\n",
              "      <td>0.991071</td>\n",
              "      <td>1.000000</td>\n",
              "      <td>1.000000</td>\n",
              "      <td>1.000000</td>\n",
              "      <td>1.000000</td>\n",
              "    </tr>\n",
              "    <tr>\n",
              "      <th>1</th>\n",
              "      <td>0.959821</td>\n",
              "      <td>0.947826</td>\n",
              "      <td>0.973214</td>\n",
              "      <td>0.960352</td>\n",
              "      <td>1.000000</td>\n",
              "      <td>1.000000</td>\n",
              "      <td>1.000000</td>\n",
              "      <td>1.000000</td>\n",
              "      <td>0.982143</td>\n",
              "      <td>0.973684</td>\n",
              "      <td>0.991071</td>\n",
              "      <td>0.982301</td>\n",
              "      <td>0.995536</td>\n",
              "      <td>0.991150</td>\n",
              "      <td>1.000000</td>\n",
              "      <td>0.995556</td>\n",
              "    </tr>\n",
              "    <tr>\n",
              "      <th>2</th>\n",
              "      <td>0.946429</td>\n",
              "      <td>0.946429</td>\n",
              "      <td>0.946429</td>\n",
              "      <td>0.946429</td>\n",
              "      <td>0.995536</td>\n",
              "      <td>1.000000</td>\n",
              "      <td>0.991071</td>\n",
              "      <td>0.995516</td>\n",
              "      <td>0.986607</td>\n",
              "      <td>1.000000</td>\n",
              "      <td>0.973214</td>\n",
              "      <td>0.986425</td>\n",
              "      <td>0.995536</td>\n",
              "      <td>1.000000</td>\n",
              "      <td>0.991071</td>\n",
              "      <td>0.995516</td>\n",
              "    </tr>\n",
              "    <tr>\n",
              "      <th>3</th>\n",
              "      <td>0.982143</td>\n",
              "      <td>0.990909</td>\n",
              "      <td>0.973214</td>\n",
              "      <td>0.981982</td>\n",
              "      <td>0.995536</td>\n",
              "      <td>1.000000</td>\n",
              "      <td>0.991071</td>\n",
              "      <td>0.995516</td>\n",
              "      <td>1.000000</td>\n",
              "      <td>1.000000</td>\n",
              "      <td>1.000000</td>\n",
              "      <td>1.000000</td>\n",
              "      <td>0.995536</td>\n",
              "      <td>1.000000</td>\n",
              "      <td>0.991071</td>\n",
              "      <td>0.995516</td>\n",
              "    </tr>\n",
              "    <tr>\n",
              "      <th>4</th>\n",
              "      <td>0.950893</td>\n",
              "      <td>0.946903</td>\n",
              "      <td>0.955357</td>\n",
              "      <td>0.951111</td>\n",
              "      <td>0.977679</td>\n",
              "      <td>0.965217</td>\n",
              "      <td>0.991071</td>\n",
              "      <td>0.977974</td>\n",
              "      <td>0.977679</td>\n",
              "      <td>0.965217</td>\n",
              "      <td>0.991071</td>\n",
              "      <td>0.977974</td>\n",
              "      <td>0.991071</td>\n",
              "      <td>0.982456</td>\n",
              "      <td>1.000000</td>\n",
              "      <td>0.991150</td>\n",
              "    </tr>\n",
              "    <tr>\n",
              "      <th>...</th>\n",
              "      <td>...</td>\n",
              "      <td>...</td>\n",
              "      <td>...</td>\n",
              "      <td>...</td>\n",
              "      <td>...</td>\n",
              "      <td>...</td>\n",
              "      <td>...</td>\n",
              "      <td>...</td>\n",
              "      <td>...</td>\n",
              "      <td>...</td>\n",
              "      <td>...</td>\n",
              "      <td>...</td>\n",
              "      <td>...</td>\n",
              "      <td>...</td>\n",
              "      <td>...</td>\n",
              "      <td>...</td>\n",
              "    </tr>\n",
              "    <tr>\n",
              "      <th>95</th>\n",
              "      <td>0.964286</td>\n",
              "      <td>0.956140</td>\n",
              "      <td>0.973214</td>\n",
              "      <td>0.964602</td>\n",
              "      <td>0.991071</td>\n",
              "      <td>0.991071</td>\n",
              "      <td>0.991071</td>\n",
              "      <td>0.991071</td>\n",
              "      <td>0.991071</td>\n",
              "      <td>0.982456</td>\n",
              "      <td>1.000000</td>\n",
              "      <td>0.991150</td>\n",
              "      <td>0.995536</td>\n",
              "      <td>0.991150</td>\n",
              "      <td>1.000000</td>\n",
              "      <td>0.995556</td>\n",
              "    </tr>\n",
              "    <tr>\n",
              "      <th>96</th>\n",
              "      <td>0.982143</td>\n",
              "      <td>0.965517</td>\n",
              "      <td>1.000000</td>\n",
              "      <td>0.982456</td>\n",
              "      <td>0.995536</td>\n",
              "      <td>0.991150</td>\n",
              "      <td>1.000000</td>\n",
              "      <td>0.995556</td>\n",
              "      <td>0.995536</td>\n",
              "      <td>0.991150</td>\n",
              "      <td>1.000000</td>\n",
              "      <td>0.995556</td>\n",
              "      <td>1.000000</td>\n",
              "      <td>1.000000</td>\n",
              "      <td>1.000000</td>\n",
              "      <td>1.000000</td>\n",
              "    </tr>\n",
              "    <tr>\n",
              "      <th>97</th>\n",
              "      <td>0.946429</td>\n",
              "      <td>0.946429</td>\n",
              "      <td>0.946429</td>\n",
              "      <td>0.946429</td>\n",
              "      <td>0.982143</td>\n",
              "      <td>0.990909</td>\n",
              "      <td>0.973214</td>\n",
              "      <td>0.981982</td>\n",
              "      <td>0.964286</td>\n",
              "      <td>0.972727</td>\n",
              "      <td>0.955357</td>\n",
              "      <td>0.963964</td>\n",
              "      <td>0.982143</td>\n",
              "      <td>0.982143</td>\n",
              "      <td>0.982143</td>\n",
              "      <td>0.982143</td>\n",
              "    </tr>\n",
              "    <tr>\n",
              "      <th>98</th>\n",
              "      <td>0.977578</td>\n",
              "      <td>0.965217</td>\n",
              "      <td>0.991071</td>\n",
              "      <td>0.977974</td>\n",
              "      <td>0.986547</td>\n",
              "      <td>0.982301</td>\n",
              "      <td>0.991071</td>\n",
              "      <td>0.986667</td>\n",
              "      <td>0.982063</td>\n",
              "      <td>0.982143</td>\n",
              "      <td>0.982143</td>\n",
              "      <td>0.982143</td>\n",
              "      <td>0.991031</td>\n",
              "      <td>0.982456</td>\n",
              "      <td>1.000000</td>\n",
              "      <td>0.991150</td>\n",
              "    </tr>\n",
              "    <tr>\n",
              "      <th>99</th>\n",
              "      <td>0.964126</td>\n",
              "      <td>0.940171</td>\n",
              "      <td>0.990991</td>\n",
              "      <td>0.964912</td>\n",
              "      <td>1.000000</td>\n",
              "      <td>1.000000</td>\n",
              "      <td>1.000000</td>\n",
              "      <td>1.000000</td>\n",
              "      <td>1.000000</td>\n",
              "      <td>1.000000</td>\n",
              "      <td>1.000000</td>\n",
              "      <td>1.000000</td>\n",
              "      <td>0.995516</td>\n",
              "      <td>0.991071</td>\n",
              "      <td>1.000000</td>\n",
              "      <td>0.995516</td>\n",
              "    </tr>\n",
              "  </tbody>\n",
              "</table>\n",
              "<p>100 rows × 16 columns</p>\n",
              "</div>"
            ],
            "text/plain": [
              "    Árvore de Decisão_accuracy  ...  Random Forest_f1\n",
              "0                     0.973214  ...          1.000000\n",
              "1                     0.959821  ...          0.995556\n",
              "2                     0.946429  ...          0.995516\n",
              "3                     0.982143  ...          0.995516\n",
              "4                     0.950893  ...          0.991150\n",
              "..                         ...  ...               ...\n",
              "95                    0.964286  ...          0.995556\n",
              "96                    0.982143  ...          1.000000\n",
              "97                    0.946429  ...          0.982143\n",
              "98                    0.977578  ...          0.991150\n",
              "99                    0.964126  ...          0.995516\n",
              "\n",
              "[100 rows x 16 columns]"
            ]
          },
          "metadata": {
            "tags": []
          },
          "execution_count": 17
        }
      ]
    },
    {
      "cell_type": "markdown",
      "metadata": {
        "id": "SWy8NeRte3Rb"
      },
      "source": [
        "## Analisando Resultados dos Modelos"
      ]
    },
    {
      "cell_type": "markdown",
      "metadata": {
        "id": "_MmbpZs9RYHq"
      },
      "source": [
        "### Acurácia"
      ]
    },
    {
      "cell_type": "code",
      "metadata": {
        "colab": {
          "base_uri": "https://localhost:8080/",
          "height": 444
        },
        "id": "sMTk5RJyedZr",
        "outputId": "4a1b18a4-02d8-4658-8a35-b155e178b7e6"
      },
      "source": [
        "df_result.filter(like='accuracy').boxplot( rot=45, fontsize=15, figsize = (13,4))"
      ],
      "execution_count": null,
      "outputs": [
        {
          "output_type": "execute_result",
          "data": {
            "text/plain": [
              "<matplotlib.axes._subplots.AxesSubplot at 0x7feab06676a0>"
            ]
          },
          "metadata": {
            "tags": []
          },
          "execution_count": 18
        },
        {
          "output_type": "display_data",
          "data": {
            "image/png": "[encoded data removed]",
            "text/plain": [
              "<Figure size 936x288 with 1 Axes>"
            ]
          },
          "metadata": {
            "tags": [],
            "needs_background": "light"
          }
        }
      ]
    },
    {
      "cell_type": "markdown",
      "metadata": {
        "id": "S7E9Bd9oSTa8"
      },
      "source": [
        " A acurácia é simplesmente a divisão entre todos os acertos pelo total. Podemos ver pelos boxplot que por esta métrica os melhores modelos foram SVC e Random Forest, com o SVC apresentando um mediana maior que o Random Forest"
      ]
    },
    {
      "cell_type": "markdown",
      "metadata": {
        "id": "mIGOJpeqRhDY"
      },
      "source": [
        "### Precisão"
      ]
    },
    {
      "cell_type": "code",
      "metadata": {
        "colab": {
          "base_uri": "https://localhost:8080/",
          "height": 444
        },
        "id": "soFAriQefQFZ",
        "outputId": "47473047-7602-4a8b-8462-5a33f9282538"
      },
      "source": [
        "df_result.filter(like='precision').boxplot( rot=45, fontsize=15, figsize = (13,4))"
      ],
      "execution_count": null,
      "outputs": [
        {
          "output_type": "execute_result",
          "data": {
            "text/plain": [
              "<matplotlib.axes._subplots.AxesSubplot at 0x7feaacb775c0>"
            ]
          },
          "metadata": {
            "tags": []
          },
          "execution_count": 19
        },
        {
          "output_type": "display_data",
          "data": {
            "image/png": "[encoded data removed]",
            "text/plain": [
              "<Figure size 936x288 with 1 Axes>"
            ]
          },
          "metadata": {
            "tags": [],
            "needs_background": "light"
          }
        }
      ]
    },
    {
      "cell_type": "markdown",
      "metadata": {
        "id": "ASNxJnVg8_Ej"
      },
      "source": [
        "Precisão de um modelo de Machine Learning é utilizada para indicar a relação entre as previsões positivas realizadas corretamente e todas as previsões positivas (incluindo as falsas). A principal utilização dessa métrica é para modelos onde é preciso minimizar os falsos positivos. Podemos observar um empate entre SVC e Random Forest"
      ]
    },
    {
      "cell_type": "markdown",
      "metadata": {
        "id": "BZmCrtFVRlnH"
      },
      "source": [
        "### Recall"
      ]
    },
    {
      "cell_type": "code",
      "metadata": {
        "colab": {
          "base_uri": "https://localhost:8080/",
          "height": 425
        },
        "id": "abr5Czz1fYGS",
        "outputId": "de2163ac-d2e0-4121-e81a-562e0edb3b4c"
      },
      "source": [
        "df_result.filter(like='recall').boxplot( rot=45, fontsize=15, figsize = (13,4))"
      ],
      "execution_count": null,
      "outputs": [
        {
          "output_type": "execute_result",
          "data": {
            "text/plain": [
              "<matplotlib.axes._subplots.AxesSubplot at 0x7feaaca95860>"
            ]
          },
          "metadata": {
            "tags": []
          },
          "execution_count": 20
        },
        {
          "output_type": "display_data",
          "data": {
            "image/png": "[encoded data removed]",
            "text/plain": [
              "<Figure size 936x288 with 1 Axes>"
            ]
          },
          "metadata": {
            "tags": [],
            "needs_background": "light"
          }
        }
      ]
    },
    {
      "cell_type": "markdown",
      "metadata": {
        "id": "LcQXUore9Eir"
      },
      "source": [
        "A medida de recall de um modelo de Machine Learning é definido como a proporção de previsões corretas da categoria alvo, Verdadeiros Positivos em relação a soma dos verdadeiros positivos com os Falsos Negativos. Falsos negativos são os casos da categoria alvo que o modelo previu como se fosse da categoria 0. Podemos observar um empate entre SVC e Random Forest, com a mediana do Random Forest sendo maior que a mediana do SVC"
      ]
    },
    {
      "cell_type": "markdown",
      "metadata": {
        "id": "4hRtWsgiRqyR"
      },
      "source": [
        "### F1-Score"
      ]
    },
    {
      "cell_type": "code",
      "metadata": {
        "colab": {
          "base_uri": "https://localhost:8080/",
          "height": 406
        },
        "id": "MORV4vp8A95K",
        "outputId": "c16c3455-0c98-4a07-fdfb-e431dba74b63"
      },
      "source": [
        "df_result.filter(like='f1').boxplot( rot=45, fontsize=15, figsize = (13,4))"
      ],
      "execution_count": null,
      "outputs": [
        {
          "output_type": "execute_result",
          "data": {
            "text/plain": [
              "<matplotlib.axes._subplots.AxesSubplot at 0x7feaaca3e4e0>"
            ]
          },
          "metadata": {
            "tags": []
          },
          "execution_count": 21
        },
        {
          "output_type": "display_data",
          "data": {
            "image/png": "[encoded data removed]",
            "text/plain": [
              "<Figure size 936x288 with 1 Axes>"
            ]
          },
          "metadata": {
            "tags": [],
            "needs_background": "light"
          }
        }
      ]
    },
    {
      "cell_type": "markdown",
      "metadata": {
        "id": "Uirsxq81XVYM"
      },
      "source": [
        "o F1 Score é a média harmonica entre precisão e recall, é uma métrica melhor que a Acurácia, principalmente em casos onde falsos positivos e falsos negativos possuem impactos diferentes para o modelo. Podemos observar que o modelo SVC e Random Forest empataram mas o SVC apresentou maior mediana. "
      ]
    },
    {
      "cell_type": "markdown",
      "metadata": {
        "id": "K7BCjx5fho-j"
      },
      "source": [
        "#Seção 4"
      ]
    },
    {
      "cell_type": "markdown",
      "metadata": {
        "id": "0Fd40wpVA0rn"
      },
      "source": [
        "## Melhor Modelo"
      ]
    },
    {
      "cell_type": "markdown",
      "metadata": {
        "id": "bSN4Fy2yXt-C"
      },
      "source": [
        "O modelo escolhido foi o SVC, vamos agora análisa-lo no conjunto de teste e verificar como se comportam as métricas"
      ]
    },
    {
      "cell_type": "code",
      "metadata": {
        "colab": {
          "base_uri": "https://localhost:8080/"
        },
        "id": "VSwdUOwSA4OC",
        "outputId": "1d3a278e-3a08-4a2f-cbbe-6ff14c22b2be"
      },
      "source": [
        "index_model = 1\n",
        "model_final = models[index_model].fit(X_train, y_train)\n",
        "y_pred = model_final.predict(X_test)\n",
        "y_scores = model_final.predict_proba(X_test)\n",
        "y_scores = y_scores[:,1]\n",
        "print('O melhor modelo foi o: {}'.format(name_models[index_model]) ) "
      ],
      "execution_count": null,
      "outputs": [
        {
          "output_type": "stream",
          "text": [
            "O melhor modelo foi o: SVC\n"
          ],
          "name": "stdout"
        }
      ]
    },
    {
      "cell_type": "markdown",
      "metadata": {
        "id": "oTxu3_BK6E_w"
      },
      "source": [
        "## Relatório de Metricas de Classificação do Modelo Melhor Modelo\n"
      ]
    },
    {
      "cell_type": "code",
      "metadata": {
        "colab": {
          "base_uri": "https://localhost:8080/"
        },
        "id": "5tGnRGTp6R_W",
        "outputId": "f9e048b7-3a15-4005-9742-9457b22a136d"
      },
      "source": [
        "from sklearn.metrics import classification_report\n",
        "\n",
        "print('Relatório de Metricas de Classificação:\\n', classification_report(y_test, y_pred, digits=4))"
      ],
      "execution_count": null,
      "outputs": [
        {
          "output_type": "stream",
          "text": [
            "Relatório de Metricas de Classificação:\n",
            "               precision    recall  f1-score   support\n",
            "\n",
            "         0.0     0.9958    0.9917    0.9937       480\n",
            "         1.0     0.9917    0.9958    0.9938       480\n",
            "\n",
            "    accuracy                         0.9938       960\n",
            "   macro avg     0.9938    0.9938    0.9937       960\n",
            "weighted avg     0.9938    0.9938    0.9937       960\n",
            "\n"
          ],
          "name": "stdout"
        }
      ]
    },
    {
      "cell_type": "markdown",
      "metadata": {
        "id": "GbSIH3DZ4bRL"
      },
      "source": [
        "## Matriz de Confusão do Melhor Modelo\n"
      ]
    },
    {
      "cell_type": "code",
      "metadata": {
        "colab": {
          "base_uri": "https://localhost:8080/",
          "height": 296
        },
        "id": "qEYpXxSi4fVL",
        "outputId": "45a513d3-0522-4c49-e92c-c7adc282dfd2"
      },
      "source": [
        "from sklearn.model_selection import cross_val_predict\n",
        "from sklearn.metrics import confusion_matrix\n",
        "\n",
        "np.random.seed(seed)\n",
        "fig, ax = plt.subplots()\n",
        "sns.heatmap(confusion_matrix(y_test, y_pred), annot=True, ax=ax, fmt='d', cmap='Reds')\n",
        "ax.set_title(\"Matriz de Confusão\", fontsize=18)\n",
        "ax.set_ylabel(\"True label\")\n",
        "ax.set_xlabel(\"Predicted Label\")\n",
        "plt.tight_layout()"
      ],
      "execution_count": null,
      "outputs": [
        {
          "output_type": "display_data",
          "data": {
            "image/png": "[encoded data removed]",
            "text/plain": [
              "<Figure size 432x288 with 2 Axes>"
            ]
          },
          "metadata": {
            "tags": [],
            "needs_background": "light"
          }
        }
      ]
    },
    {
      "cell_type": "markdown",
      "metadata": {
        "id": "kmwjgPM_6xrE"
      },
      "source": [
        "## Curva ROC"
      ]
    },
    {
      "cell_type": "code",
      "metadata": {
        "colab": {
          "base_uri": "https://localhost:8080/",
          "height": 295
        },
        "id": "WSANOUrN6VWh",
        "outputId": "cf9ca1e2-b89e-4c33-e8f4-ab5d0ea79e1b"
      },
      "source": [
        "from sklearn.metrics import roc_curve\n",
        "\n",
        "fpr, tpr, thresholds = roc_curve(y_test, y_scores)\n",
        "\n",
        "fig, ax = plt.subplots(figsize = (12,4))\n",
        "plt.plot(fpr, tpr, linewidth=2, label = name_models[index_model])\n",
        "plt.plot([0,1], [0,1], 'k--')\n",
        "plt.axis([0, 1, 0, 1])\n",
        "plt.xlabel('Taxa de Falsos Positivos')\n",
        "plt.ylabel('Taxa de Verdadeiros Positivos')\n",
        "plt.legend(loc = 'lower right')\n",
        "plt.title('Curva ROC', fontsize = 14)\n",
        "plt.show()\n"
      ],
      "execution_count": null,
      "outputs": [
        {
          "output_type": "display_data",
          "data": {
            "image/png": "[encoded data removed]",
            "text/plain": [
              "<Figure size 864x288 with 1 Axes>"
            ]
          },
          "metadata": {
            "tags": [],
            "needs_background": "light"
          }
        }
      ]
    },
    {
      "cell_type": "markdown",
      "metadata": {
        "id": "crzCy1b8AGms"
      },
      "source": [
        "## Área sob a curva ROC\n"
      ]
    },
    {
      "cell_type": "code",
      "metadata": {
        "id": "fQWnqfPWAPeV",
        "colab": {
          "base_uri": "https://localhost:8080/"
        },
        "outputId": "9be575c2-8fb5-4b78-a9ef-872e8bca3acb"
      },
      "source": [
        "from sklearn.metrics import roc_auc_score\n",
        "print('Área sob a curva ROC: {:.4f}'.format(roc_auc_score(y_test, y_scores)))"
      ],
      "execution_count": null,
      "outputs": [
        {
          "output_type": "stream",
          "text": [
            "Área sob a curva ROC: 0.9965\n"
          ],
          "name": "stdout"
        }
      ]
    },
    {
      "cell_type": "markdown",
      "metadata": {
        "id": "AJtngePivqIS"
      },
      "source": [
        "A area sob a Curva Roc resume-a como um todo, o que pode ser inadequado, ou seja um teste ideal é aquele cuja área sob a curva ROC é igual a 1. E, fazendo a análise é perceptivel observar que a área sob a Curva Roc é de 0.9994 e está bem proxima de um. \r\n",
        "\r\n",
        "\r\n",
        "\r\n",
        "\r\n",
        "\r\n"
      ]
    },
    {
      "cell_type": "markdown",
      "metadata": {
        "id": "y4mlwX34haTM"
      },
      "source": [
        "\r\n",
        "# Conclusão \r\n"
      ]
    },
    {
      "cell_type": "markdown",
      "metadata": {
        "id": "hAqcccUuhT_-"
      },
      "source": [
        "Em problemas de classificação, se faz necessário ter métricas que venha avaliar os modelos estudados. E, nesse trabalho foi avaliado a acuracia, recall, precisão e o metodo do f1-score onde a acurácia indica a perfomace geral do modelo, ou seja o quanto o modelo classificou corretamente os dados. Recall faz a escolha dentre todas as situações de classe Positivo como valor esperado, quantas estão corretas. Precisão faz a escolha dentre todas as classificações de classe Positivo que o modelo fez, quantas estão corretas. E por fim, o método de avaliação F1-Score é a média harmônica entre precisão e recall. \r\n",
        "Em conclusão, temos que cada métrica tem suas peculiaridades que devem ser levadas em consideração na escolha de como o modelo de classificação será avaliado. No contexto desse projeto, é perceptivel que o modelo que classifica mais assertivamente os tipos de vinhos é SVC. "
      ]
    },
    {
      "cell_type": "markdown",
      "metadata": {
        "id": "HLhggnQQY5u3"
      },
      "source": [
        "# Referências"
      ]
    },
    {
      "cell_type": "markdown",
      "metadata": {
        "id": "OLGzenj1Y9Yw"
      },
      "source": [
        "https://www.mariofilho.com/as-metricas-mais-populares-para-avaliar-modelos-de-machine-learning/\r\n",
        "\r\n",
        "https://paulovasconcellos.com.br/como-saber-se-seu-modelo-de-machine-learning-est%C3%A1-funcionando-mesmo-a5892f6468b\r\n",
        "\r\n",
        "https://imasters.com.br/desenvolvimento/machine-learning-metricas-para-modelos-de-classificacao\r\n",
        "\r\n",
        "https://medium.com/data-hackers/como-avaliar-seu-modelo-de-classifica%C3%A7%C3%A3o-34e6f6011108"
      ]
    },
    {
      "cell_type": "code",
      "metadata": {
        "id": "SZVzye9hbUK4"
      },
      "source": [
        ""
      ],
      "execution_count": null,
      "outputs": []
    }
  ]
}